{
 "cells": [
  {
   "cell_type": "markdown",
   "id": "25d7736c-ba17-4aff-b6bb-66eba20fbf4e",
   "metadata": {},
   "source": [
    "# Lab | List, Dict and Set Comprehension"
   ]
  },
  {
   "cell_type": "markdown",
   "id": "7dd3cbde-675a-4b81-92c3-f728846dbe06",
   "metadata": {},
   "source": [
    "## Exercise: Managing Customer Orders Optimized with Comprehension"
   ]
  },
  {
   "cell_type": "markdown",
   "id": "5d500160-2fb7-4777-b5e4-09d45ebaf328",
   "metadata": {},
   "source": [
    "In the previous exercise, you developed a program to manage customer orders and inventory. Now, let's take it a step further and incorporate comprehension into your code.\n",
    "\n",
    "Follow the steps below to complete the exercise:\n",
    "\n",
    "1. Review your code from the previous exercise and identify areas where you can apply comprehension to simplify and streamline your code. \n",
    "\n",
    "    - *Hint: Apply it to initialize inventory, updating the inventory and printing the updated inventory.*\n",
    "    \n",
    "    - For example, in initializing the inventory, we could have:\n",
    "    \n",
    "        ```python\n",
    "        def initialize_inventory(products):\n",
    "            inventory = {product: int(input(f\"Enter the quantity of {product}s available: \")) for product in products}\n",
    "            return inventory\n",
    "\n",
    "        ```\n",
    "<br>\n",
    "    \n",
    "    \n",
    "2. Modify the function get_customer_orders so it prompts the user to enter the number of customer orders and gathers the product names using a loop and user input. Use comprehension.\n",
    "\n",
    "3. Add a new function to calculate the total price of the customer order. For each product in customer_orders, prompt the user to enter the price of that product. Use comprehension to calculate the total price. Note: assume that the user can only have 1 unit of each product.\n",
    "\n",
    "4. Modify the update_inventory function to remove the product from the inventory if its quantity becomes zero after fulfilling the customer orders. Use comprehension to filter out the products with a quantity of zero from the inventory.\n",
    "\n",
    "5. Print the total price of the customer order.\n",
    "\n",
    "Your code should produce output similar to the following:\n",
    "\n",
    "```python\n",
    "Enter the quantity of t-shirts available:  5\n",
    "Enter the quantity of mugs available:  4\n",
    "Enter the quantity of hats available:  3\n",
    "Enter the quantity of books available:  2\n",
    "Enter the quantity of keychains available:  1\n",
    "Enter the number of customer orders:  2\n",
    "Enter the name of a product that a customer wants to order:  hat\n",
    "Enter the name of a product that a customer wants to order:  keychain\n",
    "\n",
    "Order Statistics:\n",
    "Total Products Ordered: 2\n",
    "Percentage of Unique Products Ordered: 40.0\n",
    "\n",
    "Updated Inventory:\n",
    "t-shirt: 5\n",
    "mug: 4\n",
    "hat: 2\n",
    "book: 2\n",
    "Enter the price of keychain:  5\n",
    "Enter the price of hat:  10\n",
    "Total Price: 15.0\n",
    "\n",
    "```\n"
   ]
  },
  {
   "cell_type": "code",
   "execution_count": 2,
   "id": "40d751bb-a5ef-4ca1-bb16-0db37440e2f6",
   "metadata": {},
   "outputs": [
    {
     "name": "stdin",
     "output_type": "stream",
     "text": [
      "Enter the quantity of t-shirts available:  3\n",
      "Enter the quantity of mugs available:  4\n",
      "Enter the quantity of hats available:  5\n",
      "Enter the quantity of books available:  8\n",
      "Enter the quantity of keychains available:  9\n"
     ]
    },
    {
     "name": "stdout",
     "output_type": "stream",
     "text": [
      "{'t-shirt': 3, 'mug': 4, 'hat': 5, 'book': 8, 'keychain': 9}\n"
     ]
    }
   ],
   "source": [
    "#1. Review your code from the previous exercise and identify areas where you can apply comprehension to simplify and streamline your code. \n",
    "\n",
    "   # - *Hint: Apply it to initialize inventory, updating the inventory and printing the updated inventory.*\n",
    "    \n",
    "    #- For example, in initializing the inventory, we could have:\n",
    "    \n",
    "\n",
    "products = [\"t-shirt\", \"mug\", \"hat\", \"book\", \"keychain\"]\n",
    "\n",
    "def initialize_inventory(products):\n",
    "            inventory = {product: int(input(f\"Enter the quantity of {product}s available: \")) for product in products}\n",
    "            return inventory\n",
    "\n",
    "inventory = initialize_inventory(products)\n",
    "print(inventory)"
   ]
  },
  {
   "cell_type": "code",
   "execution_count": 17,
   "id": "e301bf40-30a1-4760-ad67-cdb09e04b8e9",
   "metadata": {
    "scrolled": true
   },
   "outputs": [
    {
     "name": "stdin",
     "output_type": "stream",
     "text": [
      "Enter the quantity of t-shirts available:  8\n",
      "Enter the quantity of mugs available:  9\n",
      "Enter the quantity of hats available:  7\n",
      "Enter the quantity of books available:  8\n",
      "Enter the quantity of keychains available:  9\n",
      "Enter the number of products you want to order:  2\n",
      "Enter the name of a product that a customer wants to order (1/2):  mug\n",
      "Enter the name of a product that a customer wants to order (2/2):  hat\n"
     ]
    },
    {
     "name": "stdout",
     "output_type": "stream",
     "text": [
      "\n",
      "Order Statistics:\n",
      "Total Products Ordered: 2\n",
      "Percentage of Unique Products Ordered: 40.0%\n",
      "\n",
      "Updated Inventory:\n",
      "t-shirt: 7\n",
      "mug: 8\n",
      "hat: 6\n",
      "book: 7\n",
      "keychain: 8\n"
     ]
    },
    {
     "name": "stdin",
     "output_type": "stream",
     "text": [
      "Enter the price of mug:  10\n",
      "Enter the price of hat:  15\n"
     ]
    },
    {
     "name": "stdout",
     "output_type": "stream",
     "text": [
      "Total Price: 25.00\n"
     ]
    }
   ],
   "source": [
    "# Step 1: Initialize Inventory with Comprehension\n",
    "def initialize_inventory(products):\n",
    "    return {product: int(input(f\"Enter the quantity of {product}s available: \")) for product in products}\n",
    "\n",
    "# Step 2: Modify get_customer_orders to Use Comprehension\n",
    "def get_customer_orders(products):\n",
    "    num_orders = int(input(\"Enter the number of products you want to order: \"))\n",
    "    \n",
    "    customer_orders = {input(f\"Enter the name of a product that a customer wants to order ({i+1}/{num_orders}): \").lower().strip() for i in range(num_orders)}\n",
    "    \n",
    "    # Filter only valid orders and remove duplicates\n",
    "    customer_orders = {order for order in customer_orders if order in products}\n",
    "    \n",
    "    return customer_orders\n",
    "\n",
    "# Step 3: Calculate Total Price of Customer Orders\n",
    "def calculate_total_price(customer_orders):\n",
    "    total_price = sum(\n",
    "        float(input(f\"Enter the price of {product}: \"))\n",
    "        for product in customer_orders\n",
    "    )\n",
    "    return total_price\n",
    "\n",
    "# Step 4: Update Inventory with Comprehension\n",
    "def update_inventory(inventory, customer_orders):\n",
    "    # Create a new inventory dictionary that reflects the updated quantities\n",
    "    updated_inventory = {\n",
    "        product: max(0, quantity - 1)  # Decrement quantity by 1 for each ordered product\n",
    "        for product, quantity in inventory.items()\n",
    "    }\n",
    "    \n",
    "    # Remove products from inventory if their quantity is zero\n",
    "    updated_inventory = {product: quantity for product, quantity in updated_inventory.items() if quantity > 0}\n",
    "    \n",
    "    return updated_inventory\n",
    "\n",
    "# Main Program\n",
    "products = [\"t-shirt\", \"mug\", \"hat\", \"book\", \"keychain\"]\n",
    "inventory = initialize_inventory(products)\n",
    "customer_orders = get_customer_orders(products)\n",
    "\n",
    "# Display Order Statistics\n",
    "total_products_ordered = len(customer_orders)\n",
    "percentage_unique_ordered = (total_products_ordered / len(products)) * 100\n",
    "print(\"\\nOrder Statistics:\")\n",
    "print(f\"Total Products Ordered: {total_products_ordered}\")\n",
    "print(f\"Percentage of Unique Products Ordered: {percentage_unique_ordered:.1f}%\")\n",
    "\n",
    "# Update Inventory\n",
    "inventory = update_inventory(inventory, customer_orders)\n",
    "\n",
    "# Display Updated Inventory\n",
    "print(\"\\nUpdated Inventory:\")\n",
    "for product, quantity in inventory.items():\n",
    "    print(f\"{product}: {quantity}\")\n",
    "\n",
    "# Calculate and Display Total Price\n",
    "total_price = calculate_total_price(customer_orders)\n",
    "print(f\"Total Price: {total_price:.2f}\")\n"
   ]
  },
  {
   "cell_type": "code",
   "execution_count": null,
   "id": "d4322a17-688a-4eaa-8e5e-86038bc32597",
   "metadata": {},
   "outputs": [],
   "source": []
  }
 ],
 "metadata": {
  "kernelspec": {
   "display_name": "Python 3 (ipykernel)",
   "language": "python",
   "name": "python3"
  },
  "language_info": {
   "codemirror_mode": {
    "name": "ipython",
    "version": 3
   },
   "file_extension": ".py",
   "mimetype": "text/x-python",
   "name": "python",
   "nbconvert_exporter": "python",
   "pygments_lexer": "ipython3",
   "version": "3.12.4"
  }
 },
 "nbformat": 4,
 "nbformat_minor": 5
}
